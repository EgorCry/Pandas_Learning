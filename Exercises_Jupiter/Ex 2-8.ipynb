{
 "cells": [
  {
   "cell_type": "code",
   "execution_count": 5,
   "id": "dc38eea4",
   "metadata": {},
   "outputs": [],
   "source": [
    "import pandas as pd\n",
    "import numpy as np"
   ]
  },
  {
   "cell_type": "code",
   "execution_count": 6,
   "id": "45c93179",
   "metadata": {},
   "outputs": [],
   "source": [
    "customers = pd.MultiIndex.from_tuples(\n",
    "    ((\"Bob\", \"smithb\"), (\"Mary\", \"mj100\"), (\"Mita\", \"patelm\")),\n",
    "    names=[\"name\", \"username\"],\n",
    ")"
   ]
  },
  {
   "cell_type": "code",
   "execution_count": 7,
   "id": "e2296ea6",
   "metadata": {},
   "outputs": [],
   "source": [
    "accounts = pd.MultiIndex.from_tuples(\n",
    "    ((0, \"number\"), (0, \"balance\"), (1, \"number\"), (1, \"balance\")), names=[\"account\", \"account_info\"]\n",
    ")"
   ]
  },
  {
   "cell_type": "code",
   "execution_count": 8,
   "id": "81b7a689",
   "metadata": {},
   "outputs": [],
   "source": [
    "account_info = pd.DataFrame(\n",
    "    [[123846, 123, 123847, 450], [123972, 3972, 123973, 222], [347209, 7209, np.nan, np.nan]],\n",
    "    index=customers,\n",
    "    columns=accounts,\n",
    ")"
   ]
  },
  {
   "cell_type": "code",
   "execution_count": 9,
   "id": "0e12a286",
   "metadata": {},
   "outputs": [
    {
     "data": {
      "text/html": [
       "<div>\n",
       "<style scoped>\n",
       "    .dataframe tbody tr th:only-of-type {\n",
       "        vertical-align: middle;\n",
       "    }\n",
       "\n",
       "    .dataframe tbody tr th {\n",
       "        vertical-align: top;\n",
       "    }\n",
       "\n",
       "    .dataframe thead tr th {\n",
       "        text-align: left;\n",
       "    }\n",
       "\n",
       "    .dataframe thead tr:last-of-type th {\n",
       "        text-align: right;\n",
       "    }\n",
       "</style>\n",
       "<table border=\"1\" class=\"dataframe\">\n",
       "  <thead>\n",
       "    <tr>\n",
       "      <th></th>\n",
       "      <th>account</th>\n",
       "      <th colspan=\"2\" halign=\"left\">0</th>\n",
       "      <th colspan=\"2\" halign=\"left\">1</th>\n",
       "    </tr>\n",
       "    <tr>\n",
       "      <th></th>\n",
       "      <th>account_info</th>\n",
       "      <th>number</th>\n",
       "      <th>balance</th>\n",
       "      <th>number</th>\n",
       "      <th>balance</th>\n",
       "    </tr>\n",
       "    <tr>\n",
       "      <th>name</th>\n",
       "      <th>username</th>\n",
       "      <th></th>\n",
       "      <th></th>\n",
       "      <th></th>\n",
       "      <th></th>\n",
       "    </tr>\n",
       "  </thead>\n",
       "  <tbody>\n",
       "    <tr>\n",
       "      <th>Bob</th>\n",
       "      <th>smithb</th>\n",
       "      <td>123846</td>\n",
       "      <td>123</td>\n",
       "      <td>123847.0</td>\n",
       "      <td>450.0</td>\n",
       "    </tr>\n",
       "    <tr>\n",
       "      <th>Mary</th>\n",
       "      <th>mj100</th>\n",
       "      <td>123972</td>\n",
       "      <td>3972</td>\n",
       "      <td>123973.0</td>\n",
       "      <td>222.0</td>\n",
       "    </tr>\n",
       "    <tr>\n",
       "      <th>Mita</th>\n",
       "      <th>patelm</th>\n",
       "      <td>347209</td>\n",
       "      <td>7209</td>\n",
       "      <td>NaN</td>\n",
       "      <td>NaN</td>\n",
       "    </tr>\n",
       "  </tbody>\n",
       "</table>\n",
       "</div>"
      ],
      "text/plain": [
       "account             0                 1        \n",
       "account_info   number balance    number balance\n",
       "name username                                  \n",
       "Bob  smithb    123846     123  123847.0   450.0\n",
       "Mary mj100     123972    3972  123973.0   222.0\n",
       "Mita patelm    347209    7209       NaN     NaN"
      ]
     },
     "execution_count": 9,
     "metadata": {},
     "output_type": "execute_result"
    }
   ],
   "source": [
    "account_info"
   ]
  },
  {
   "cell_type": "code",
   "execution_count": 10,
   "id": "d8cdf299",
   "metadata": {},
   "outputs": [
    {
     "data": {
      "text/plain": [
       "account  account_info\n",
       "0        balance         3972.0\n",
       "1        balance          222.0\n",
       "Name: (Mary, mj100), dtype: float64"
      ]
     },
     "execution_count": 10,
     "metadata": {},
     "output_type": "execute_result"
    }
   ],
   "source": [
    "account_info.loc[('Mary', 'mj100'), pd.IndexSlice[:, 'balance']]"
   ]
  },
  {
   "cell_type": "code",
   "execution_count": null,
   "id": "cfa69ebb",
   "metadata": {},
   "outputs": [],
   "source": []
  }
 ],
 "metadata": {
  "kernelspec": {
   "display_name": "Python 3 (ipykernel)",
   "language": "python",
   "name": "python3"
  },
  "language_info": {
   "codemirror_mode": {
    "name": "ipython",
    "version": 3
   },
   "file_extension": ".py",
   "mimetype": "text/x-python",
   "name": "python",
   "nbconvert_exporter": "python",
   "pygments_lexer": "ipython3",
   "version": "3.10.4"
  }
 },
 "nbformat": 4,
 "nbformat_minor": 5
}
