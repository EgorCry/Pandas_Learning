{
 "cells": [
  {
   "cell_type": "code",
   "execution_count": 1,
   "id": "6b53944a",
   "metadata": {},
   "outputs": [],
   "source": [
    "import numpy as np\n",
    "import pandas as pd"
   ]
  },
  {
   "cell_type": "code",
   "execution_count": 2,
   "id": "3c141a50",
   "metadata": {},
   "outputs": [],
   "source": [
    "customers = pd.MultiIndex.from_tuples(\n",
    "    ((\"Bob\", \"smithb\"), (\"Mary\", \"mj100\"), (\"Mita\", \"patelm\")),\n",
    "    names=[\"name\", \"username\"],\n",
    ")\n",
    "\n",
    "accounts = pd.MultiIndex.from_tuples(\n",
    "    ((0, \"number\"), (0, \"balance\"), (1, \"number\"), (1, \"balance\")), names=[\"account\", \"account_info\"]\n",
    ")\n",
    "\n",
    "account_info = pd.DataFrame(\n",
    "    [[123846, 123, 123847, 450], [123972, 3972, 123973, 222], [347209, 7209, np.nan, np.nan]],\n",
    "    index=customers,\n",
    "    columns=accounts,\n",
    ")\n",
    "NEW_BALANCE = 0"
   ]
  },
  {
   "cell_type": "code",
   "execution_count": 3,
   "id": "055530be",
   "metadata": {},
   "outputs": [],
   "source": [
    "# The code below is equivalent to:\n",
    "\n",
    "# account_info.__setitem__(\n",
    "\n",
    "# (slice(None), (0, 'balance')), NEW_BALANCE)\n",
    "\n",
    "account_info.loc[:, (0, \"balance\")] = NEW_BALANCE"
   ]
  },
  {
   "cell_type": "code",
   "execution_count": 8,
   "id": "895495fa",
   "metadata": {},
   "outputs": [
    {
     "name": "stderr",
     "output_type": "stream",
     "text": [
      "C:\\Temp\\ipykernel_12600\\1155868922.py:5: SettingWithCopyWarning: \n",
      "A value is trying to be set on a copy of a slice from a DataFrame.\n",
      "Try using .loc[row_indexer,col_indexer] = value instead\n",
      "\n",
      "See the caveats in the documentation: https://pandas.pydata.org/pandas-docs/stable/user_guide/indexing.html#returning-a-view-versus-a-copy\n",
      "  account_info[0][\"balance\"] = NEW_BALANCE\n"
     ]
    }
   ],
   "source": [
    "# The code below is equivalent to:\n",
    "\n",
    "# account_info.__getitem__(0).__setitem__('balance', NEW_BALANCE)\n",
    "\n",
    "account_info[0][\"balance\"] = NEW_BALANCE"
   ]
  },
  {
   "cell_type": "code",
   "execution_count": null,
   "id": "cff4d1d0",
   "metadata": {},
   "outputs": [],
   "source": []
  }
 ],
 "metadata": {
  "kernelspec": {
   "display_name": "Python 3 (ipykernel)",
   "language": "python",
   "name": "python3"
  },
  "language_info": {
   "codemirror_mode": {
    "name": "ipython",
    "version": 3
   },
   "file_extension": ".py",
   "mimetype": "text/x-python",
   "name": "python",
   "nbconvert_exporter": "python",
   "pygments_lexer": "ipython3",
   "version": "3.10.4"
  }
 },
 "nbformat": 4,
 "nbformat_minor": 5
}
