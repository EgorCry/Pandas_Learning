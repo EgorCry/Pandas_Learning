{
 "cells": [
  {
   "cell_type": "code",
   "execution_count": 1,
   "id": "4144434b",
   "metadata": {},
   "outputs": [],
   "source": [
    "import pandas as pd"
   ]
  },
  {
   "cell_type": "code",
   "execution_count": 2,
   "id": "f3462ed6",
   "metadata": {},
   "outputs": [],
   "source": [
    "restaurants = pd.MultiIndex.from_tuples(\n",
    "(('Diner', (4, 2)), ('Pandas', (5, 4))),\n",
    "names = ['restaurant', 'location'])"
   ]
  },
  {
   "cell_type": "code",
   "execution_count": 3,
   "id": "9a74e73a",
   "metadata": {},
   "outputs": [
    {
     "data": {
      "text/plain": [
       "MultiIndex([( 'Diner', (4, 2)),\n",
       "            ('Pandas', (5, 4))],\n",
       "           names=['restaurant', 'location'])"
      ]
     },
     "execution_count": 3,
     "metadata": {},
     "output_type": "execute_result"
    }
   ],
   "source": [
    "restaurants"
   ]
  },
  {
   "cell_type": "code",
   "execution_count": 8,
   "id": "60c5de36",
   "metadata": {},
   "outputs": [],
   "source": [
    "inspections = pd.MultiIndex.from_tuples(\n",
    "((0, 'score'), (0, 'data'), (1, 'score'), (1, 'date')), \n",
    "    names=['inspection', 'data'])"
   ]
  },
  {
   "cell_type": "code",
   "execution_count": 11,
   "id": "a546cdae",
   "metadata": {},
   "outputs": [],
   "source": [
    "restaurant_inspections = pd.DataFrame(\n",
    "[[90, '02/18', 100, '05/18'], [55, '04/18', 76, '01/18']],\n",
    "index=restaurants,\n",
    "columns=inspections)"
   ]
  },
  {
   "cell_type": "code",
   "execution_count": 16,
   "id": "d3986d93",
   "metadata": {},
   "outputs": [
    {
     "data": {
      "text/html": [
       "<div>\n",
       "<style scoped>\n",
       "    .dataframe tbody tr th:only-of-type {\n",
       "        vertical-align: middle;\n",
       "    }\n",
       "\n",
       "    .dataframe tbody tr th {\n",
       "        vertical-align: top;\n",
       "    }\n",
       "\n",
       "    .dataframe thead tr th {\n",
       "        text-align: left;\n",
       "    }\n",
       "\n",
       "    .dataframe thead tr:last-of-type th {\n",
       "        text-align: right;\n",
       "    }\n",
       "</style>\n",
       "<table border=\"1\" class=\"dataframe\">\n",
       "  <thead>\n",
       "    <tr>\n",
       "      <th></th>\n",
       "      <th>inspection</th>\n",
       "      <th colspan=\"2\" halign=\"left\">0</th>\n",
       "      <th colspan=\"2\" halign=\"left\">1</th>\n",
       "    </tr>\n",
       "    <tr>\n",
       "      <th></th>\n",
       "      <th>data</th>\n",
       "      <th>score</th>\n",
       "      <th>data</th>\n",
       "      <th>score</th>\n",
       "      <th>date</th>\n",
       "    </tr>\n",
       "    <tr>\n",
       "      <th>restaurant</th>\n",
       "      <th>location</th>\n",
       "      <th></th>\n",
       "      <th></th>\n",
       "      <th></th>\n",
       "      <th></th>\n",
       "    </tr>\n",
       "  </thead>\n",
       "  <tbody>\n",
       "    <tr>\n",
       "      <th>Diner</th>\n",
       "      <th>(4, 2)</th>\n",
       "      <td>90</td>\n",
       "      <td>02/18</td>\n",
       "      <td>100</td>\n",
       "      <td>05/18</td>\n",
       "    </tr>\n",
       "    <tr>\n",
       "      <th>Pandas</th>\n",
       "      <th>(5, 4)</th>\n",
       "      <td>55</td>\n",
       "      <td>04/18</td>\n",
       "      <td>76</td>\n",
       "      <td>01/18</td>\n",
       "    </tr>\n",
       "  </tbody>\n",
       "</table>\n",
       "</div>"
      ],
      "text/plain": [
       "inspection              0            1       \n",
       "data                score   data score   date\n",
       "restaurant location                          \n",
       "Diner      (4, 2)      90  02/18   100  05/18\n",
       "Pandas     (5, 4)      55  04/18    76  01/18"
      ]
     },
     "execution_count": 16,
     "metadata": {},
     "output_type": "execute_result"
    }
   ],
   "source": [
    "restaurant_inspections"
   ]
  },
  {
   "cell_type": "code",
   "execution_count": 14,
   "id": "56d4a94b",
   "metadata": {},
   "outputs": [],
   "source": [
    "score_columns = (\n",
    "restaurant_inspections.columns.get_level_values('data') == 'score')"
   ]
  },
  {
   "cell_type": "code",
   "execution_count": 15,
   "id": "7d137f47",
   "metadata": {},
   "outputs": [
    {
     "data": {
      "text/plain": [
       "array([ True, False,  True, False])"
      ]
     },
     "execution_count": 15,
     "metadata": {},
     "output_type": "execute_result"
    }
   ],
   "source": [
    "score_columns"
   ]
  },
  {
   "cell_type": "code",
   "execution_count": 17,
   "id": "14419836",
   "metadata": {},
   "outputs": [
    {
     "data": {
      "text/html": [
       "<div>\n",
       "<style scoped>\n",
       "    .dataframe tbody tr th:only-of-type {\n",
       "        vertical-align: middle;\n",
       "    }\n",
       "\n",
       "    .dataframe tbody tr th {\n",
       "        vertical-align: top;\n",
       "    }\n",
       "\n",
       "    .dataframe thead tr th {\n",
       "        text-align: left;\n",
       "    }\n",
       "\n",
       "    .dataframe thead tr:last-of-type th {\n",
       "        text-align: right;\n",
       "    }\n",
       "</style>\n",
       "<table border=\"1\" class=\"dataframe\">\n",
       "  <thead>\n",
       "    <tr>\n",
       "      <th></th>\n",
       "      <th>inspection</th>\n",
       "      <th>0</th>\n",
       "      <th>1</th>\n",
       "    </tr>\n",
       "    <tr>\n",
       "      <th></th>\n",
       "      <th>data</th>\n",
       "      <th>score</th>\n",
       "      <th>score</th>\n",
       "    </tr>\n",
       "    <tr>\n",
       "      <th>restaurant</th>\n",
       "      <th>location</th>\n",
       "      <th></th>\n",
       "      <th></th>\n",
       "    </tr>\n",
       "  </thead>\n",
       "  <tbody>\n",
       "    <tr>\n",
       "      <th>Diner</th>\n",
       "      <th>(4, 2)</th>\n",
       "      <td>90</td>\n",
       "      <td>100</td>\n",
       "    </tr>\n",
       "    <tr>\n",
       "      <th>Pandas</th>\n",
       "      <th>(5, 4)</th>\n",
       "      <td>55</td>\n",
       "      <td>76</td>\n",
       "    </tr>\n",
       "  </tbody>\n",
       "</table>\n",
       "</div>"
      ],
      "text/plain": [
       "inspection              0     1\n",
       "data                score score\n",
       "restaurant location            \n",
       "Diner      (4, 2)      90   100\n",
       "Pandas     (5, 4)      55    76"
      ]
     },
     "execution_count": 17,
     "metadata": {},
     "output_type": "execute_result"
    }
   ],
   "source": [
    "restaurant_inspections.iloc[:, score_columns]"
   ]
  },
  {
   "cell_type": "code",
   "execution_count": null,
   "id": "3e7a0a0e",
   "metadata": {},
   "outputs": [],
   "source": []
  }
 ],
 "metadata": {
  "kernelspec": {
   "display_name": "Python 3 (ipykernel)",
   "language": "python",
   "name": "python3"
  },
  "language_info": {
   "codemirror_mode": {
    "name": "ipython",
    "version": 3
   },
   "file_extension": ".py",
   "mimetype": "text/x-python",
   "name": "python",
   "nbconvert_exporter": "python",
   "pygments_lexer": "ipython3",
   "version": "3.10.4"
  }
 },
 "nbformat": 4,
 "nbformat_minor": 5
}
